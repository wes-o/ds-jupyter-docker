{
 "cells": [
  {
   "cell_type": "markdown",
   "metadata": {},
   "source": [
    "## A Test Notebook\n",
    "<p>\n",
    "Greetings. Depending on the OS, and hardware of your machine you may see different values when you run the following cells.\n",
    "</p>\n",
    "<p>\n",
    "Take note of the `/volume_data` folder in the last cell of this notebook. <br/>\n",
    "Each directory in the original repository is located within `/volume_data`. <br/>\n",
    "This Docker image created a mounted Volume on the host container. Data <em>should</em> persist across machine operation.\n",
    "</p>\n",
    "<b> In any case, download any work onto your local machine in case of network connectivity interruption. </b>"
   ]
  },
  {
   "cell_type": "code",
   "execution_count": 1,
   "metadata": {},
   "outputs": [
    {
     "name": "stdout",
     "output_type": "stream",
     "text": [
      "linux\n"
     ]
    }
   ],
   "source": [
    "import sys\n",
    "print(sys.platform)\n"
   ]
  },
  {
   "cell_type": "code",
   "execution_count": 2,
   "metadata": {},
   "outputs": [
    {
     "name": "stdout",
     "output_type": "stream",
     "text": [
      "['/home/jovyan/work/volume_data/notebooks', '/opt/conda/lib/python37.zip', '/opt/conda/lib/python3.7', '/opt/conda/lib/python3.7/lib-dynload', '', '/opt/conda/lib/python3.7/site-packages', '/opt/conda/lib/python3.7/site-packages/IPython/extensions', '/home/jovyan/.ipython']\n"
     ]
    }
   ],
   "source": [
    "print(sys.path)"
   ]
  },
  {
   "cell_type": "code",
   "execution_count": 3,
   "metadata": {},
   "outputs": [
    {
     "name": "stdout",
     "output_type": "stream",
     "text": [
      "3.7.6 | packaged by conda-forge | (default, Jun  1 2020, 18:57:50) \n",
      "[GCC 7.5.0]\n"
     ]
    }
   ],
   "source": [
    "print(sys.version)"
   ]
  },
  {
   "cell_type": "code",
   "execution_count": 4,
   "metadata": {},
   "outputs": [
    {
     "name": "stdout",
     "output_type": "stream",
     "text": [
      "['final.ipynb', 'test(2).ipynb']\n"
     ]
    }
   ],
   "source": [
    "list = !ls\n",
    "print(list)"
   ]
  },
  {
   "cell_type": "code",
   "execution_count": 5,
   "metadata": {},
   "outputs": [
    {
     "name": "stdout",
     "output_type": "stream",
     "text": [
      "[]\n"
     ]
    }
   ],
   "source": [
    "testfile = !find . -print | grep -z 'test.ipynb'\n",
    "print(testfile)"
   ]
  },
  {
   "cell_type": "code",
   "execution_count": 7,
   "metadata": {},
   "outputs": [
    {
     "name": "stdout",
     "output_type": "stream",
     "text": [
      "/home/jovyan/work\n",
      "/home/jovyan/work/volume_data\n",
      "/home/jovyan/work/volume_data/test\n",
      ".gitkeep\n",
      "/home/jovyan/work/volume_data/data\n",
      ".gitkeep\n",
      "README.md\n",
      "/home/jovyan/work/volume_data/data/output\n",
      ".gitkeep\n",
      "/home/jovyan/work/volume_data/data/processed\n",
      ".gitkeep\n",
      "/home/jovyan/work/volume_data/data/raw\n",
      ".gitkeep\n",
      "/home/jovyan/work/volume_data/references\n",
      ".gitkeep\n",
      "/home/jovyan/work/volume_data/src\n",
      ".gitkeep\n",
      "/home/jovyan/work/volume_data/notebooks\n",
      "final.ipynb\n",
      "test(2).ipynb\n",
      "/home/jovyan/work/volume_data/notebooks/.ipynb_checkpoints\n"
     ]
    }
   ],
   "source": [
    "import os\n",
    "\n",
    "for path, dirs, files in os.walk('/home/jovyan/work'):\n",
    "  print (path)\n",
    "  for f in files:\n",
    "    print (f)"
   ]
  },
  {
   "cell_type": "code",
   "execution_count": null,
   "metadata": {},
   "outputs": [],
   "source": []
  }
 ],
 "metadata": {
  "kernelspec": {
   "display_name": "Python 3",
   "language": "python",
   "name": "python3"
  },
  "language_info": {
   "codemirror_mode": {
    "name": "ipython",
    "version": 3
   },
   "file_extension": ".py",
   "mimetype": "text/x-python",
   "name": "python",
   "nbconvert_exporter": "python",
   "pygments_lexer": "ipython3",
   "version": "3.7.6"
  }
 },
 "nbformat": 4,
 "nbformat_minor": 4
}
